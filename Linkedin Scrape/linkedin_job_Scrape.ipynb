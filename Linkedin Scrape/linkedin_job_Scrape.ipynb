{
 "cells": [
  {
   "cell_type": "code",
   "execution_count": 1,
   "metadata": {},
   "outputs": [],
   "source": [
    "import pandas as pd\n",
    "import re\n",
    "from selenium import webdriver\n",
    "from selenium.webdriver.common.keys import Keys"
   ]
  },
  {
   "cell_type": "code",
   "execution_count": 2,
   "metadata": {},
   "outputs": [],
   "source": [
    "browser=webdriver.Chrome(\"chromedriver.exe\")\n",
    "browser.get(\"https://www.linkedin.com\")"
   ]
  },
  {
   "cell_type": "code",
   "execution_count": 3,
   "metadata": {},
   "outputs": [],
   "source": [
    "username=browser.find_element_by_id(\"session_key\")\n",
    "username.send_keys(\"put_email_id\")\n",
    "password=browser.find_element_by_id(\"session_password\")\n",
    "password.send_keys(\"put_password\")\n"
   ]
  },
  {
   "cell_type": "code",
   "execution_count": 4,
   "metadata": {},
   "outputs": [],
   "source": [
    "login_button=browser.find_element_by_class_name(\"sign-in-form__submit-button\")\n",
    "login_button.click()"
   ]
  },
  {
   "cell_type": "code",
   "execution_count": 5,
   "metadata": {},
   "outputs": [],
   "source": [
    "browser.get(\"https://www.linkedin.com/jobs/\")\n",
    "\n"
   ]
  },
  {
   "cell_type": "markdown",
   "metadata": {},
   "source": [
    "##  get job title"
   ]
  },
  {
   "cell_type": "code",
   "execution_count": 6,
   "metadata": {},
   "outputs": [],
   "source": [
    "job=browser.find_elements_by_class_name(\"job-card-square__title\")"
   ]
  },
  {
   "cell_type": "code",
   "execution_count": 7,
   "metadata": {},
   "outputs": [
    {
     "name": "stdout",
     "output_type": "stream",
     "text": [
      "Job Title\n",
      "Data Science- Intern\n",
      "Job Title\n",
      "Data Engineer / Data Analyst\n",
      "Job Title\n",
      "Data Engineer: Big Data\n",
      "Job Title\n",
      "Software Engineering\n",
      "Job Title\n",
      "Curriculum Specialist\n",
      "Job Title\n",
      "AWS BigData\n",
      "Job Title\n",
      "Report Developer\n",
      "Job Title\n",
      "Data -Software Engineer -3.\n",
      "Job Title\n",
      "Data Scientist - Python/R\n",
      "Job Title\n",
      "Data Analytics and Interpretation Application Lead\n",
      "Job Title\n",
      "Analyst, Cloud Data Engineering\n",
      "Job Title\n",
      "Support Engineer\n",
      "Job Title\n",
      "Senior Associate, Solution Engineering.\n",
      "Job Title\n",
      "Associate Architect - Data Science\n",
      "Job Title\n",
      "MERN Stack Developer\n",
      "Job Title\n",
      "Python+Java-Engineer\n",
      "Job Title\n",
      "Database Developer\n",
      "Job Title\n",
      "Python Developer\n",
      "Job Title\n",
      "Sales Administrator\n",
      "Job Title\n",
      "Software Specialist - Big Data - Hadoop, Redshift, Spark\n",
      "Job Title\n",
      "Quantsapp - Data Anaylst - Trading Analytics Platform (1-3 yrs) Mumbai\n",
      "Job Title\n",
      "Technical Trainee - Data Science/ Machine Learning\n",
      "Job Title\n",
      "Software Development Engineering, Analyst\n"
     ]
    }
   ],
   "source": [
    "c=[]\n",
    "for i in job:\n",
    "    print(i.text)\n",
    "    c.append(i.text)"
   ]
  },
  {
   "cell_type": "code",
   "execution_count": 8,
   "metadata": {},
   "outputs": [],
   "source": [
    "job_title=[]\n",
    "for i in range(len(c)):\n",
    "    job_title.append(c[i].strip(\"Job Title\\n\"))"
   ]
  },
  {
   "cell_type": "code",
   "execution_count": 9,
   "metadata": {},
   "outputs": [
    {
     "data": {
      "text/plain": [
       "['Data Science- Intern',\n",
       " 'Data Engineer / Data Analys',\n",
       " 'Data Engineer: Big Data',\n",
       " 'Software Engineering',\n",
       " 'Curriculum Specialis',\n",
       " 'AWS BigData',\n",
       " 'Report Developer',\n",
       " 'Data -Software Engineer -3.',\n",
       " 'Data Scientist - Python/R',\n",
       " 'Data Analytics and Interpretation Application Lead',\n",
       " 'Analyst, Cloud Data Engineering',\n",
       " 'Support Engineer',\n",
       " 'Senior Associate, Solution Engineering.',\n",
       " 'Associate Architect - Data Scienc',\n",
       " 'MERN Stack Developer',\n",
       " 'Python+Java-Engineer',\n",
       " 'Database Developer',\n",
       " 'Python Developer',\n",
       " 'Sales Administrator',\n",
       " 'Software Specialist - Big Data - Hadoop, Redshift, Spark',\n",
       " 'Quantsapp - Data Anaylst - Trading Analytics Platform (1-3 yrs) Mumba',\n",
       " 'chnical Trainee - Data Science/ Machine Learning',\n",
       " 'Software Development Engineering, Analys']"
      ]
     },
     "execution_count": 9,
     "metadata": {},
     "output_type": "execute_result"
    }
   ],
   "source": [
    "job_title"
   ]
  },
  {
   "cell_type": "markdown",
   "metadata": {},
   "source": [
    "## get company name"
   ]
  },
  {
   "cell_type": "code",
   "execution_count": 18,
   "metadata": {},
   "outputs": [],
   "source": [
    "\n",
    "job2=browser.find_elements_by_class_name(\"job-card-container__company-name\")"
   ]
  },
  {
   "cell_type": "code",
   "execution_count": 19,
   "metadata": {},
   "outputs": [
    {
     "name": "stdout",
     "output_type": "stream",
     "text": [
      "Evolent Health\n",
      "Morgan Stanley\n",
      "IBM\n",
      "JPMorgan Chase & Co.\n",
      "JoVE\n",
      "Accenture\n",
      "Sitel\n",
      "Michelin\n",
      "Citi\n",
      "Accenture in India\n",
      "Western Union\n",
      "TIBCO\n",
      "Western Union\n",
      "Icertis\n",
      "LTI - Larsen & Toubro Infotech\n",
      "LTI - Larsen & Toubro Infotech\n",
      "ISS | Institutional Shareholder Services\n",
      "LTI - Larsen & Toubro Infotech\n",
      "YouGov India\n",
      "Augusta Infotech\n",
      "Quantsapp\n",
      "Fiserv\n"
     ]
    }
   ],
   "source": [
    "comp_name=[]\n",
    "for i in job2:\n",
    "    print(i.text)\n",
    "    comp_name.append(i.text)"
   ]
  },
  {
   "cell_type": "code",
   "execution_count": 20,
   "metadata": {},
   "outputs": [
    {
     "data": {
      "text/plain": [
       "['Evolent Health',\n",
       " 'Morgan Stanley',\n",
       " 'IBM',\n",
       " 'JPMorgan Chase & Co.',\n",
       " 'JoVE',\n",
       " 'Accenture',\n",
       " 'Sitel',\n",
       " 'Michelin',\n",
       " 'Citi',\n",
       " 'Accenture in India',\n",
       " 'Western Union',\n",
       " 'TIBCO',\n",
       " 'Western Union',\n",
       " 'Icertis',\n",
       " 'LTI - Larsen & Toubro Infotech',\n",
       " 'LTI - Larsen & Toubro Infotech',\n",
       " 'ISS | Institutional Shareholder Services',\n",
       " 'LTI - Larsen & Toubro Infotech',\n",
       " 'YouGov India',\n",
       " 'Augusta Infotech',\n",
       " 'Quantsapp',\n",
       " 'Fiserv']"
      ]
     },
     "execution_count": 20,
     "metadata": {},
     "output_type": "execute_result"
    }
   ],
   "source": [
    "comp_name"
   ]
  },
  {
   "cell_type": "markdown",
   "metadata": {},
   "source": [
    "## get Location"
   ]
  },
  {
   "cell_type": "code",
   "execution_count": 13,
   "metadata": {},
   "outputs": [],
   "source": [
    "\n",
    "job3=browser.find_elements_by_class_name(\"job-card-container__metadata-item\")"
   ]
  },
  {
   "cell_type": "code",
   "execution_count": 14,
   "metadata": {},
   "outputs": [
    {
     "name": "stdout",
     "output_type": "stream",
     "text": [
      "Pune, Maharashtra, India\n",
      "Mumbai, Maharashtra, India\n",
      "Pune, Maharashtra, India\n",
      "Mumbai, Maharashtra, India\n",
      "Mumbai, Maharashtra, India\n",
      "Mumbai, Maharashtra, India\n",
      "Mumbai, Maharashtra, India\n",
      "Pune, Maharashtra, India\n",
      "Pune, Maharashtra, India\n",
      "Pune, Maharashtra, India\n",
      "Pune, Maharashtra, India\n",
      "Pune, Maharashtra, India\n",
      "Pune, Maharashtra, India\n",
      "Shirur Sub-District, Maharashtra, India\n",
      "Pune, Maharashtra, India\n",
      "Pune, Maharashtra, India\n",
      "Mumbai, Maharashtra, India\n",
      "Pune, Maharashtra, India\n",
      "Mumbai, Maharashtra, India\n",
      "Pune, Maharashtra, India\n",
      "Mumbai, Maharashtra, India\n",
      "Pune/Pimpri-Chinchwad Area\n",
      "Pune, Maharashtra, India\n"
     ]
    }
   ],
   "source": [
    "loc_name=[]\n",
    "for i in job3:\n",
    "    print(i.text)\n",
    "    loc_name.append(i.text)"
   ]
  },
  {
   "cell_type": "code",
   "execution_count": 22,
   "metadata": {},
   "outputs": [],
   "source": [
    "comp_name.append(\" \")\n",
    "    "
   ]
  },
  {
   "cell_type": "code",
   "execution_count": 23,
   "metadata": {},
   "outputs": [
    {
     "name": "stdout",
     "output_type": "stream",
     "text": [
      "23\n",
      "23\n",
      "23\n"
     ]
    }
   ],
   "source": [
    "print(len(comp_name))\n",
    "print(len(job_title))\n",
    "print(len(loc_name))"
   ]
  },
  {
   "cell_type": "code",
   "execution_count": 24,
   "metadata": {},
   "outputs": [],
   "source": [
    "col=[\"Company Name\",\"Job Title\",\"Location\"]"
   ]
  },
  {
   "cell_type": "code",
   "execution_count": 25,
   "metadata": {},
   "outputs": [],
   "source": [
    "df=pd.DataFrame({\"Company Name\":comp_name,\"Job Title\":job_title,\"Location\":loc_name})"
   ]
  },
  {
   "cell_type": "code",
   "execution_count": 26,
   "metadata": {},
   "outputs": [
    {
     "data": {
      "text/html": [
       "<div>\n",
       "<style scoped>\n",
       "    .dataframe tbody tr th:only-of-type {\n",
       "        vertical-align: middle;\n",
       "    }\n",
       "\n",
       "    .dataframe tbody tr th {\n",
       "        vertical-align: top;\n",
       "    }\n",
       "\n",
       "    .dataframe thead th {\n",
       "        text-align: right;\n",
       "    }\n",
       "</style>\n",
       "<table border=\"1\" class=\"dataframe\">\n",
       "  <thead>\n",
       "    <tr style=\"text-align: right;\">\n",
       "      <th></th>\n",
       "      <th>Company Name</th>\n",
       "      <th>Job Title</th>\n",
       "      <th>Location</th>\n",
       "    </tr>\n",
       "  </thead>\n",
       "  <tbody>\n",
       "    <tr>\n",
       "      <th>0</th>\n",
       "      <td>Evolent Health</td>\n",
       "      <td>Data Science- Intern</td>\n",
       "      <td>Pune, Maharashtra, India</td>\n",
       "    </tr>\n",
       "    <tr>\n",
       "      <th>1</th>\n",
       "      <td>Morgan Stanley</td>\n",
       "      <td>Data Engineer / Data Analys</td>\n",
       "      <td>Mumbai, Maharashtra, India</td>\n",
       "    </tr>\n",
       "    <tr>\n",
       "      <th>2</th>\n",
       "      <td>IBM</td>\n",
       "      <td>Data Engineer: Big Data</td>\n",
       "      <td>Pune, Maharashtra, India</td>\n",
       "    </tr>\n",
       "    <tr>\n",
       "      <th>3</th>\n",
       "      <td>JPMorgan Chase &amp; Co.</td>\n",
       "      <td>Software Engineering</td>\n",
       "      <td>Mumbai, Maharashtra, India</td>\n",
       "    </tr>\n",
       "    <tr>\n",
       "      <th>4</th>\n",
       "      <td>JoVE</td>\n",
       "      <td>Curriculum Specialis</td>\n",
       "      <td>Mumbai, Maharashtra, India</td>\n",
       "    </tr>\n",
       "    <tr>\n",
       "      <th>5</th>\n",
       "      <td>Accenture</td>\n",
       "      <td>AWS BigData</td>\n",
       "      <td>Mumbai, Maharashtra, India</td>\n",
       "    </tr>\n",
       "    <tr>\n",
       "      <th>6</th>\n",
       "      <td>Sitel</td>\n",
       "      <td>Report Developer</td>\n",
       "      <td>Mumbai, Maharashtra, India</td>\n",
       "    </tr>\n",
       "    <tr>\n",
       "      <th>7</th>\n",
       "      <td>Michelin</td>\n",
       "      <td>Data -Software Engineer -3.</td>\n",
       "      <td>Pune, Maharashtra, India</td>\n",
       "    </tr>\n",
       "    <tr>\n",
       "      <th>8</th>\n",
       "      <td>Citi</td>\n",
       "      <td>Data Scientist - Python/R</td>\n",
       "      <td>Pune, Maharashtra, India</td>\n",
       "    </tr>\n",
       "    <tr>\n",
       "      <th>9</th>\n",
       "      <td>Accenture in India</td>\n",
       "      <td>Data Analytics and Interpretation Application ...</td>\n",
       "      <td>Pune, Maharashtra, India</td>\n",
       "    </tr>\n",
       "    <tr>\n",
       "      <th>10</th>\n",
       "      <td>Western Union</td>\n",
       "      <td>Analyst, Cloud Data Engineering</td>\n",
       "      <td>Pune, Maharashtra, India</td>\n",
       "    </tr>\n",
       "    <tr>\n",
       "      <th>11</th>\n",
       "      <td>TIBCO</td>\n",
       "      <td>Support Engineer</td>\n",
       "      <td>Pune, Maharashtra, India</td>\n",
       "    </tr>\n",
       "    <tr>\n",
       "      <th>12</th>\n",
       "      <td>Western Union</td>\n",
       "      <td>Senior Associate, Solution Engineering.</td>\n",
       "      <td>Pune, Maharashtra, India</td>\n",
       "    </tr>\n",
       "    <tr>\n",
       "      <th>13</th>\n",
       "      <td>Icertis</td>\n",
       "      <td>Associate Architect - Data Scienc</td>\n",
       "      <td>Shirur Sub-District, Maharashtra, India</td>\n",
       "    </tr>\n",
       "    <tr>\n",
       "      <th>14</th>\n",
       "      <td>LTI - Larsen &amp; Toubro Infotech</td>\n",
       "      <td>MERN Stack Developer</td>\n",
       "      <td>Pune, Maharashtra, India</td>\n",
       "    </tr>\n",
       "    <tr>\n",
       "      <th>15</th>\n",
       "      <td>LTI - Larsen &amp; Toubro Infotech</td>\n",
       "      <td>Python+Java-Engineer</td>\n",
       "      <td>Pune, Maharashtra, India</td>\n",
       "    </tr>\n",
       "    <tr>\n",
       "      <th>16</th>\n",
       "      <td>ISS | Institutional Shareholder Services</td>\n",
       "      <td>Database Developer</td>\n",
       "      <td>Mumbai, Maharashtra, India</td>\n",
       "    </tr>\n",
       "    <tr>\n",
       "      <th>17</th>\n",
       "      <td>LTI - Larsen &amp; Toubro Infotech</td>\n",
       "      <td>Python Developer</td>\n",
       "      <td>Pune, Maharashtra, India</td>\n",
       "    </tr>\n",
       "    <tr>\n",
       "      <th>18</th>\n",
       "      <td>YouGov India</td>\n",
       "      <td>Sales Administrator</td>\n",
       "      <td>Mumbai, Maharashtra, India</td>\n",
       "    </tr>\n",
       "    <tr>\n",
       "      <th>19</th>\n",
       "      <td>Augusta Infotech</td>\n",
       "      <td>Software Specialist - Big Data - Hadoop, Redsh...</td>\n",
       "      <td>Pune, Maharashtra, India</td>\n",
       "    </tr>\n",
       "    <tr>\n",
       "      <th>20</th>\n",
       "      <td>Quantsapp</td>\n",
       "      <td>Quantsapp - Data Anaylst - Trading Analytics P...</td>\n",
       "      <td>Mumbai, Maharashtra, India</td>\n",
       "    </tr>\n",
       "    <tr>\n",
       "      <th>21</th>\n",
       "      <td>Fiserv</td>\n",
       "      <td>chnical Trainee - Data Science/ Machine Learning</td>\n",
       "      <td>Pune/Pimpri-Chinchwad Area</td>\n",
       "    </tr>\n",
       "    <tr>\n",
       "      <th>22</th>\n",
       "      <td></td>\n",
       "      <td>Software Development Engineering, Analys</td>\n",
       "      <td>Pune, Maharashtra, India</td>\n",
       "    </tr>\n",
       "  </tbody>\n",
       "</table>\n",
       "</div>"
      ],
      "text/plain": [
       "                                Company Name  \\\n",
       "0                             Evolent Health   \n",
       "1                             Morgan Stanley   \n",
       "2                                        IBM   \n",
       "3                       JPMorgan Chase & Co.   \n",
       "4                                       JoVE   \n",
       "5                                  Accenture   \n",
       "6                                      Sitel   \n",
       "7                                   Michelin   \n",
       "8                                       Citi   \n",
       "9                         Accenture in India   \n",
       "10                             Western Union   \n",
       "11                                     TIBCO   \n",
       "12                             Western Union   \n",
       "13                                   Icertis   \n",
       "14            LTI - Larsen & Toubro Infotech   \n",
       "15            LTI - Larsen & Toubro Infotech   \n",
       "16  ISS | Institutional Shareholder Services   \n",
       "17            LTI - Larsen & Toubro Infotech   \n",
       "18                              YouGov India   \n",
       "19                          Augusta Infotech   \n",
       "20                                 Quantsapp   \n",
       "21                                    Fiserv   \n",
       "22                                             \n",
       "\n",
       "                                            Job Title  \\\n",
       "0                                Data Science- Intern   \n",
       "1                         Data Engineer / Data Analys   \n",
       "2                             Data Engineer: Big Data   \n",
       "3                                Software Engineering   \n",
       "4                                Curriculum Specialis   \n",
       "5                                         AWS BigData   \n",
       "6                                    Report Developer   \n",
       "7                         Data -Software Engineer -3.   \n",
       "8                           Data Scientist - Python/R   \n",
       "9   Data Analytics and Interpretation Application ...   \n",
       "10                    Analyst, Cloud Data Engineering   \n",
       "11                                   Support Engineer   \n",
       "12            Senior Associate, Solution Engineering.   \n",
       "13                  Associate Architect - Data Scienc   \n",
       "14                               MERN Stack Developer   \n",
       "15                               Python+Java-Engineer   \n",
       "16                                 Database Developer   \n",
       "17                                   Python Developer   \n",
       "18                                Sales Administrator   \n",
       "19  Software Specialist - Big Data - Hadoop, Redsh...   \n",
       "20  Quantsapp - Data Anaylst - Trading Analytics P...   \n",
       "21   chnical Trainee - Data Science/ Machine Learning   \n",
       "22           Software Development Engineering, Analys   \n",
       "\n",
       "                                   Location  \n",
       "0                  Pune, Maharashtra, India  \n",
       "1                Mumbai, Maharashtra, India  \n",
       "2                  Pune, Maharashtra, India  \n",
       "3                Mumbai, Maharashtra, India  \n",
       "4                Mumbai, Maharashtra, India  \n",
       "5                Mumbai, Maharashtra, India  \n",
       "6                Mumbai, Maharashtra, India  \n",
       "7                  Pune, Maharashtra, India  \n",
       "8                  Pune, Maharashtra, India  \n",
       "9                  Pune, Maharashtra, India  \n",
       "10                 Pune, Maharashtra, India  \n",
       "11                 Pune, Maharashtra, India  \n",
       "12                 Pune, Maharashtra, India  \n",
       "13  Shirur Sub-District, Maharashtra, India  \n",
       "14                 Pune, Maharashtra, India  \n",
       "15                 Pune, Maharashtra, India  \n",
       "16               Mumbai, Maharashtra, India  \n",
       "17                 Pune, Maharashtra, India  \n",
       "18               Mumbai, Maharashtra, India  \n",
       "19                 Pune, Maharashtra, India  \n",
       "20               Mumbai, Maharashtra, India  \n",
       "21               Pune/Pimpri-Chinchwad Area  \n",
       "22                 Pune, Maharashtra, India  "
      ]
     },
     "execution_count": 26,
     "metadata": {},
     "output_type": "execute_result"
    }
   ],
   "source": [
    "df"
   ]
  },
  {
   "cell_type": "code",
   "execution_count": 27,
   "metadata": {},
   "outputs": [],
   "source": [
    "df.to_csv(\"linkedin_scrape11.csv\")"
   ]
  },
  {
   "cell_type": "code",
   "execution_count": null,
   "metadata": {},
   "outputs": [],
   "source": []
  }
 ],
 "metadata": {
  "kernelspec": {
   "display_name": "Python 3",
   "language": "python",
   "name": "python3"
  },
  "language_info": {
   "codemirror_mode": {
    "name": "ipython",
    "version": 3
   },
   "file_extension": ".py",
   "mimetype": "text/x-python",
   "name": "python",
   "nbconvert_exporter": "python",
   "pygments_lexer": "ipython3",
   "version": "3.7.6"
  }
 },
 "nbformat": 4,
 "nbformat_minor": 4
}
